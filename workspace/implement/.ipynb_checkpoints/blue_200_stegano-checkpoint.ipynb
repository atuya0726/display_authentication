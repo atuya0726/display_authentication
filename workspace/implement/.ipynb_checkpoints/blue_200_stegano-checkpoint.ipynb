{
 "cells": [
  {
   "cell_type": "code",
   "execution_count": 1,
   "id": "c2936c87-c245-4a41-9e45-7eae165f8d01",
   "metadata": {
    "tags": []
   },
   "outputs": [],
   "source": [
    "%matplotlib widget\n",
    "import spectral as spy\n",
    "import spectral.io.envi as envi\n",
    "\n",
    "import pandas as pd\n",
    "import numpy as np\n",
    "\n",
    "import matplotlib.pyplot as plt\n",
    "import japanize_matplotlib\n",
    "\n",
    "from PIL import Image\n",
    "import csv\n",
    "import mplcursors\n",
    "\n",
    "from scipy.signal import argrelmax"
   ]
  },
  {
   "cell_type": "code",
   "execution_count": 2,
   "id": "0dca90e7-f110-460d-9a41-c1d65ebc649d",
   "metadata": {
    "tags": []
   },
   "outputs": [],
   "source": [
    "HDR_PATH_iphone = '/data/iphone_blue_200_stegano_2023-08-07_010/results/REFLECTANCE_2023-08-07_010.hdr'\n",
    "HDR_PATH_pixel = '/data/pixel_blue_200_stegano_2023-08-07_007/results/REFLECTANCE_2023-08-07_007.hdr'\n",
    "HDR_PATH_huawei = '/data/huawei_blue_200_stegano_2023-08-07_008/results/REFLECTANCE_2023-08-07_008.hdr'\n",
    "\n",
    "IMG_PATH_iphone = '/data/iphone_blue_200_stegano_2023-08-07_010/results/REFLECTANCE_2023-08-07_010.png'\n",
    "IMG_PATH_pixel = '/data/pixel_blue_200_stegano_2023-08-07_007/results/REFLECTANCE_2023-08-07_007.png'\n",
    "IMG_PATH_huawei = '/data/huawei_blue_200_stegano_2023-08-07_008/results/REFLECTANCE_2023-08-07_008.png'"
   ]
  },
  {
   "cell_type": "code",
   "execution_count": 3,
   "id": "54c9ed32-8876-4d67-8ec6-121c812d593c",
   "metadata": {
    "tags": []
   },
   "outputs": [],
   "source": [
    "spec_img_i = envi.open(HDR_PATH_iphone)\n",
    "spec_img_p = envi.open(HDR_PATH_pixel)\n",
    "spec_img_h = envi.open(HDR_PATH_huawei)"
   ]
  },
  {
   "cell_type": "code",
   "execution_count": 4,
   "id": "e7ca2e95-c9e4-4497-9688-96461c7ac30e",
   "metadata": {
    "tags": []
   },
   "outputs": [],
   "source": [
    "wave_lengthes = []\n",
    "hdr = envi.read_envi_header(HDR_PATH_iphone)\n",
    "\n",
    "for wl in hdr['wavelength']:\n",
    "    wave_lengthes.append(float(wl))"
   ]
  },
  {
   "cell_type": "code",
   "execution_count": 5,
   "id": "81467455-c466-46b2-8d94-01d16871defe",
   "metadata": {
    "tags": []
   },
   "outputs": [],
   "source": [
    "# image_i = Image.open(IMG_PATH_iphone)\n",
    "# fig_test = plt.figure(figsize=(20,20))\n",
    "# _ax1 = fig_test.add_subplot(1,1,1)\n",
    "# _ax1.imshow(image_i)\n",
    "# mplcursors.cursor(hover=True)\n",
    "\n",
    "# plt.show()"
   ]
  },
  {
   "cell_type": "code",
   "execution_count": 6,
   "id": "d8c5b226-d491-45f2-99b2-be79093d3c14",
   "metadata": {
    "tags": []
   },
   "outputs": [
    {
     "data": {
      "text/plain": [
       "\tData Source:   '/data/iphone_blue_200_stegano_2023-08-07_010/results/REFLECTANCE_2023-08-07_010.dat'\n",
       "\t# Rows:            512\n",
       "\t# Samples:         512\n",
       "\t# Bands:           204\n",
       "\tInterleave:        BIL\n",
       "\tQuantization:  32 bits\n",
       "\tData format:   float32"
      ]
     },
     "execution_count": 6,
     "metadata": {},
     "output_type": "execute_result"
    }
   ],
   "source": [
    "spec_img_i"
   ]
  },
  {
   "cell_type": "code",
   "execution_count": null,
   "id": "adcc32e8-e381-4d34-ae65-6cc3554c2509",
   "metadata": {
    "tags": []
   },
   "outputs": [],
   "source": [
    "pixel_x = 210 # X座標\n",
    "pixel_y = 190  # Y座標\n",
    "color = (255, 0, 0)  # 色(RGB値)\n",
    "\n",
    "dots=[-1,0,1]\n",
    "image_i = Image.open(IMG_PATH_iphone)\n",
    "for i in dots:\n",
    "    for j in dots:\n",
    "        image_i.putpixel((pixel_x+i, pixel_y+j), color)\n",
    "        \n",
    "image_p = Image.open(IMG_PATH_pixel)\n",
    "for i in dots:\n",
    "    for j in dots:\n",
    "        image_p.putpixel((pixel_x+i, pixel_y+j), color)\n",
    "image_h = Image.open(IMG_PATH_huawei)\n",
    "for i in dots:\n",
    "    for j in dots:\n",
    "        image_h.putpixel((pixel_x+i, pixel_y+j), color)\n",
    "\n",
    "x = wave_lengthes[:121]\n",
    "y_i = spec_img_i.read_pixel(512-pixel_x,pixel_y)[:121]\n",
    "y_p = spec_img_p.read_pixel(512-pixel_x,pixel_y)[:121]\n",
    "y_h = spec_img_h.read_pixel(512-pixel_x,pixel_y)[:121]\n",
    "\n",
    "fig = plt.figure(figsize = (14,5))\n",
    "ax1 = fig.add_subplot(1,4,1)\n",
    "ax2 = fig.add_subplot(1,4,2)\n",
    "ax3 = fig.add_subplot(1,4,3)\n",
    "ax4 = fig.add_subplot(1,4,4)\n",
    "\n",
    "print(y_p[20],y_p[43],y_p[78])\n",
    "\n",
    "\n",
    "ax1.plot(x,y_i,label='iphone')\n",
    "ax1.plot(x,y_p,label='pixel')\n",
    "ax1.plot(x,y_h,label='huawei')\n",
    "ax1.set_title('808080（灰色）の三機種比較')\n",
    "ax1.legend()\n",
    "ax2.imshow(image_i)\n",
    "ax2.axis('off')\n",
    "ax3.imshow(image_p)\n",
    "ax4.imshow(image_h)\n",
    "mplcursors.cursor(hover=True)\n",
    "\n",
    "plt.show()"
   ]
  },
  {
   "cell_type": "code",
   "execution_count": null,
   "id": "9288a250-d020-412b-b5e2-9c22d82aad49",
   "metadata": {
    "tags": []
   },
   "outputs": [],
   "source": [
    "def correction_i(x,y):\n",
    "    diff_mean_per_g = 0.011363798379898071\n",
    "    diff_mean_per_r = 0.02156052738428116\n",
    "    correction_value = 0\n",
    "    grid_info={\n",
    "        (158, 196, 89, 128): int(115/50)*diff_mean_per_r + int(8/50)*diff_mean_per_g,\n",
    "        (196, 238, 89, 128): int(192/50)*diff_mean_per_r + int(23/50)*diff_mean_per_g,\n",
    "        (238, 280, 89, 128): int(149/50)*diff_mean_per_r + int(146/50)*diff_mean_per_g,\n",
    "        (158, 196, 128, 169): int(130/50)*diff_mean_per_r + int(110/50)*diff_mean_per_g,\n",
    "        (196, 238, 128, 169): int(176/50)*diff_mean_per_r + int(29/50)*diff_mean_per_g,\n",
    "        (238, 280, 128, 169): int(213/50)*diff_mean_per_r + int(144/50)*diff_mean_per_g,\n",
    "        (158, 196, 169, 208): int(226/50)*diff_mean_per_r + int(217/50)*diff_mean_per_g,\n",
    "        (196, 238, 169, 208): int(13/50)*diff_mean_per_r + int(14/50)*diff_mean_per_g,\n",
    "        (238, 280, 169, 208): int(151/50)*diff_mean_per_r + int(51/50)*diff_mean_per_g,\n",
    "        (158, 196, 208, 251): int(228/50)*diff_mean_per_r + int(102/50)*diff_mean_per_g,\n",
    "        (196, 238, 208, 251): int(236/50)*diff_mean_per_r + int(2/50)*diff_mean_per_g,\n",
    "        (238, 280, 208, 251): int(198/50)*diff_mean_per_r + int(130/50)*diff_mean_per_g,\n",
    "        (158, 196, 251, 292): int(49/50)*diff_mean_per_r + int(211/50)*diff_mean_per_g,\n",
    "        (196, 238, 251, 292): int(107/50)*diff_mean_per_r + int(183/50)*diff_mean_per_g,\n",
    "        (238, 280, 251, 292): int(164/50)*diff_mean_per_r + int(67/50)*diff_mean_per_g\n",
    "    }\n",
    "\n",
    "    for (x_min, x_max, y_min, y_max), value in grid_info.items():\n",
    "        if (xmin < x and x < x_max and y_min < y and y < y_max) :\n",
    "            correction_value = value\n",
    "    \n",
    "    return correction_value"
   ]
  },
  {
   "cell_type": "code",
   "execution_count": null,
   "id": "3965a946-6500-4bfc-8fd1-db41fc369323",
   "metadata": {
    "tags": []
   },
   "outputs": [],
   "source": [
    "color = (255,0,0)\n",
    "image_i = Image.open(IMG_PATH_iphone)\n",
    "std = 0.1\n",
    "base = 1.048\n",
    "LOWER = base - std \n",
    "UPPER = base + std\n",
    "\n",
    "\n",
    "for i in range(512):\n",
    "    for j in range(512):\n",
    "        correction_value = correction_i(i,j)\n",
    "        blue_i = spec_img_i.read_pixel(511-i,j)[20]\n",
    "        blu_i -= correction_value\n",
    "        if LOWER < blue_i and blue_i < UPPER:\n",
    "            image_i.putpixel((i, j), color)\n",
    "            \n",
    "# image_p = Image.open(IMG_PATH_pixel)\n",
    "# for i in range(512):\n",
    "#     for j in range(512):\n",
    "#         blue_p = spec_img_p.read_pixel(511-i,j)[20]\n",
    "#         if LOWER < blue_p and blue_p < UPPER:\n",
    "#             image_p.putpixel((i, j), color)\n",
    "            \n",
    "\n",
    "# image_h = Image.open(IMG_PATH_huawei)\n",
    "# for i in range(512):\n",
    "#     for j in range(512):\n",
    "#         blue_h = spec_img_h.read_pixel(511-i,j)[20]\n",
    "#         if LOWER < blue_h and blue_h < UPPER:\n",
    "#             image_h.putpixel((i, j), color)\n",
    "            \n",
    "fig2 = plt.figure(figsize = (14,5))\n",
    "_ax1 = fig2.add_subplot(1,3,1)\n",
    "_ax2 = fig2.add_subplot(1,3,2)\n",
    "_ax3 = fig2.add_subplot(1,3,3)\n",
    "\n",
    "_ax1.imshow(image_i)\n",
    "_ax2.imshow(image_p)\n",
    "_ax3.imshow(image_h)\n",
    "plt.show()"
   ]
  },
  {
   "cell_type": "code",
   "execution_count": null,
   "id": "82fa4d97-dafb-4dac-b3e5-5efcf38621b4",
   "metadata": {
    "tags": []
   },
   "outputs": [],
   "source": [
    "ex_max_i=argrelmax(y_i,order=3)\n",
    "ex_max_p = argrelmax(y_p,order=3)\n",
    "ex_max_h = argrelmax(y_h,order=3)\n",
    "print(ex_max_i,ex_max_p,ex_max_h)"
   ]
  },
  {
   "cell_type": "code",
   "execution_count": null,
   "id": "52e037d7-4c52-4fff-878c-d8e93edebea6",
   "metadata": {
    "tags": []
   },
   "outputs": [],
   "source": [
    "ex_max_i[0][0]"
   ]
  },
  {
   "cell_type": "code",
   "execution_count": null,
   "id": "8fbc63b5-907a-46a9-b514-5ef1d9e8bc5f",
   "metadata": {
    "tags": []
   },
   "outputs": [],
   "source": [
    "for elem in ex_max_i[0]:\n",
    "    print(y_i[elem])"
   ]
  },
  {
   "cell_type": "code",
   "execution_count": null,
   "id": "efd9241e-7920-48d5-964a-02214d15a9ce",
   "metadata": {
    "tags": []
   },
   "outputs": [],
   "source": [
    "for i in ex_max_p[0]:\n",
    "    print(y_p[i])"
   ]
  },
  {
   "cell_type": "code",
   "execution_count": null,
   "id": "94e269e0-81e4-487e-9c32-d34f0d77a31c",
   "metadata": {
    "tags": []
   },
   "outputs": [],
   "source": [
    "for i in ex_max_h[0]:\n",
    "    print(y_h[i])"
   ]
  },
  {
   "cell_type": "code",
   "execution_count": null,
   "id": "2c1b5919-fde4-4df9-85da-8227a00af158",
   "metadata": {
    "tags": []
   },
   "outputs": [],
   "source": [
    "0.617"
   ]
  },
  {
   "cell_type": "code",
   "execution_count": null,
   "id": "1af0f228-1106-4288-8ce8-26a5b49140aa",
   "metadata": {
    "tags": []
   },
   "outputs": [],
   "source": [
    "int(60/50)"
   ]
  },
  {
   "cell_type": "code",
   "execution_count": null,
   "id": "c3470ecb-d2ba-40ee-9f4a-3b3fded496e4",
   "metadata": {},
   "outputs": [],
   "source": []
  }
 ],
 "metadata": {
  "kernelspec": {
   "display_name": "Python 3 (ipykernel)",
   "language": "python",
   "name": "python3"
  },
  "language_info": {
   "codemirror_mode": {
    "name": "ipython",
    "version": 3
   },
   "file_extension": ".py",
   "mimetype": "text/x-python",
   "name": "python",
   "nbconvert_exporter": "python",
   "pygments_lexer": "ipython3",
   "version": "3.9.7"
  }
 },
 "nbformat": 4,
 "nbformat_minor": 5
}
