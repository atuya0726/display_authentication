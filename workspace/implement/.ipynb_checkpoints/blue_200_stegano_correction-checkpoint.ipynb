{
 "cells": [
  {
   "cell_type": "code",
   "execution_count": 1,
   "id": "9f87198f-9b4b-4df9-a0e3-1a2a00a0af76",
   "metadata": {
    "tags": []
   },
   "outputs": [],
   "source": [
    "%matplotlib widget\n",
    "import spectral as spy\n",
    "import spectral.io.envi as envi\n",
    "\n",
    "import pandas as pd\n",
    "import numpy as np\n",
    "\n",
    "import matplotlib.pyplot as plt\n",
    "import japanize_matplotlib\n",
    "\n",
    "from PIL import Image\n",
    "import csv\n",
    "import mplcursors\n",
    "\n",
    "from scipy.signal import argrelmax\n",
    "import cv2"
   ]
  },
  {
   "cell_type": "code",
   "execution_count": 4,
   "id": "3e8a7082-53c2-4deb-862f-212ee5b15d9c",
   "metadata": {
    "tags": []
   },
   "outputs": [],
   "source": [
    "HDR_PATH_iphone = '/data/iphone_blue_200_stegano_2023-08-07_010/results/REFLECTANCE_2023-08-07_010.hdr'\n",
    "HDR_PATH_pixel = '/data/pixel_blue_200_stegano_2023-08-07_007/results/REFLECTANCE_2023-08-07_007.hdr'\n",
    "HDR_PATH_huawei = '/data/huawei_blue_200_stegano_2023-08-07_008/results/REFLECTANCE_2023-08-07_008.hdr'\n",
    "\n",
    "IMG_PATH_iphone = '/data/iphone_blue_200_stegano_2023-08-07_010/results/RGBBACKGROUND_2023-08-07_010.png'\n",
    "IMG_PATH_pixel = '/data/pixel_blue_200_stegano_2023-08-07_007/results/RGBBACKGROUND_2023-08-07_007.png'\n",
    "IMG_PATH_huawei = '/data/huawei_blue_200_stegano_2023-08-07_008/results/RGBBACKGROUND_2023-08-07_008.png'"
   ]
  },
  {
   "cell_type": "code",
   "execution_count": 5,
   "id": "2b182446-4bd4-4a91-a5f7-3e8c19ac448a",
   "metadata": {
    "tags": []
   },
   "outputs": [],
   "source": [
    "spec_img_i = envi.open(HDR_PATH_iphone)\n",
    "spec_img_p = envi.open(HDR_PATH_pixel)\n",
    "spec_img_h = envi.open(HDR_PATH_huawei)"
   ]
  },
  {
   "cell_type": "code",
   "execution_count": 6,
   "id": "9f38132f-fdef-4e9e-8755-fdc455abccc7",
   "metadata": {
    "tags": []
   },
   "outputs": [],
   "source": [
    "wave_lengthes = []\n",
    "hdr = envi.read_envi_header(HDR_PATH_iphone)\n",
    "\n",
    "for wl in hdr['wavelength']:\n",
    "    wave_lengthes.append(float(wl))"
   ]
  },
  {
   "cell_type": "code",
   "execution_count": null,
   "id": "cdb70900-411f-4b26-860c-7d1761c8785a",
   "metadata": {},
   "outputs": [],
   "source": []
  }
 ],
 "metadata": {
  "kernelspec": {
   "display_name": "Python 3 (ipykernel)",
   "language": "python",
   "name": "python3"
  },
  "language_info": {
   "codemirror_mode": {
    "name": "ipython",
    "version": 3
   },
   "file_extension": ".py",
   "mimetype": "text/x-python",
   "name": "python",
   "nbconvert_exporter": "python",
   "pygments_lexer": "ipython3",
   "version": "3.9.7"
  }
 },
 "nbformat": 4,
 "nbformat_minor": 5
}
