{
 "cells": [
  {
   "cell_type": "code",
   "execution_count": null,
   "id": "7cce800f-38c8-49d4-aa47-6a3a66b1bc3e",
   "metadata": {},
   "outputs": [],
   "source": [
    "from PIL import Image\n",
    "import numpy as np\n",
    "\n",
    "# 画像AとBを開く\n",
    "imageA = Image.open('imageA.jpg')\n",
    "imageB = Image.open('imageB.jpg')\n",
    "\n",
    "# 画像をNumPy配列に変換\n",
    "arrayA = np.array(imageA)\n",
    "arrayB = np.array(imageB)\n",
    "\n",
    "# 画像AとBの類似度を計算\n",
    "difference = np.sum((arrayA - arrayB) ** 2)\n",
    "similarity = 1 - (difference / float(arrayA.size))\n",
    "\n",
    "# 類似度が高い部分の座標を取得\n",
    "threshold = 0.9  # 類似度の閾値\n",
    "similar_coordinates = np.argwhere(similarity > threshold)\n",
    "\n",
    "# 座標を表示\n",
    "for coordinate in similar_coordinates:\n",
    "    print(\"類似座標:\", coordinate)\n",
    "\n",
    "# 座標から切り取り範囲を計算できます\n"
   ]
  }
 ],
 "metadata": {
  "kernelspec": {
   "display_name": "Python 3 (ipykernel)",
   "language": "python",
   "name": "python3"
  },
  "language_info": {
   "codemirror_mode": {
    "name": "ipython",
    "version": 3
   },
   "file_extension": ".py",
   "mimetype": "text/x-python",
   "name": "python",
   "nbconvert_exporter": "python",
   "pygments_lexer": "ipython3",
   "version": "3.9.7"
  }
 },
 "nbformat": 4,
 "nbformat_minor": 5
}
