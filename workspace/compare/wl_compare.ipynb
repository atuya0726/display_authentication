{
 "cells": [
  {
   "cell_type": "code",
   "execution_count": 11,
   "id": "c2936c87-c245-4a41-9e45-7eae165f8d01",
   "metadata": {
    "tags": []
   },
   "outputs": [],
   "source": [
    "%matplotlib widget\n",
    "import spectral as spy\n",
    "import spectral.io.envi as envi\n",
    "\n",
    "import pandas as pd\n",
    "import numpy as np\n",
    "\n",
    "import matplotlib.pyplot as plt\n",
    "import japanize_matplotlib\n",
    "\n",
    "from PIL import Image\n",
    "import csv\n",
    "import mplcursors\n",
    "\n",
    "from scipy.signal import argrelmax"
   ]
  },
  {
   "cell_type": "code",
   "execution_count": 12,
   "id": "0dca90e7-f110-460d-9a41-c1d65ebc649d",
   "metadata": {
    "tags": []
   },
   "outputs": [],
   "source": [
    "HDR_PATH_1 = '../data/iphone_808080_1_2023-07-12_002/results/REFLECTANCE_2023-07-12_002.hdr'\n",
    "HDR_PATH_2 = '../data/iphone_808080_2_2023-07-12_003/results/REFLECTANCE_2023-07-12_003.hdr'\n",
    "HDR_PATH_3 = '../data/iphone_808080_3_2023-07-12_004/results/REFLECTANCE_2023-07-12_004.hdr'\n",
    "HDR_PATH_4 = '../data/iphone_808080_4_2023-07-24_005/results/REFLECTANCE_2023-07-24_005.hdr'\n",
    "HDR_PATH_5 = '../data/iphone_808080_5_2023-07-24_007/results/REFLECTANCE_iphone_808080_2023-07-24_007.hdr'\n",
    "\n",
    "IMG_PATH_1 = '../data/iphone_808080_1_2023-07-12_002/results/REFLECTANCE_2023-07-12_002.png'\n",
    "IMG_PATH_2 = '../data/iphone_808080_2_2023-07-12_003/results/REFLECTANCE_2023-07-12_003.png'\n",
    "IMG_PATH_3 = '../data/iphone_808080_3_2023-07-12_004/results/REFLECTANCE_2023-07-12_004.png'\n",
    "IMG_PATH_4 = '../data/iphone_808080_4_2023-07-24_005/results/REFLECTANCE_2023-07-24_005.png'\n",
    "IMG_PATH_5 = '../data/iphone_808080_5_2023-07-24_007/results/REFLECTANCE_iphone_808080_2023-07-24_007.png'\n",
    "\n",
    "hdr_paths = [HDR_PATH_1,HDR_PATH_2,HDR_PATH_3,HDR_PATH_4,HDR_PATH_5]\n",
    "img_paths = [IMG_PATH_1,IMG_PATH_2,IMG_PATH_3,IMG_PATH_4,IMG_PATH_5]"
   ]
  },
  {
   "cell_type": "code",
   "execution_count": 13,
   "id": "54c9ed32-8876-4d67-8ec6-121c812d593c",
   "metadata": {
    "tags": []
   },
   "outputs": [],
   "source": [
    "spec_imgs = []\n",
    "for path in hdr_paths:\n",
    "    spec_imgs.append(envi.open(path))"
   ]
  },
  {
   "cell_type": "code",
   "execution_count": 14,
   "id": "e7ca2e95-c9e4-4497-9688-96461c7ac30e",
   "metadata": {
    "tags": []
   },
   "outputs": [],
   "source": [
    "wave_lengthes = []\n",
    "hdr = envi.read_envi_header(HDR_PATH_1)\n",
    "\n",
    "for wl in hdr['wavelength']:\n",
    "    wave_lengthes.append(float(wl))"
   ]
  },
  {
   "cell_type": "code",
   "execution_count": 15,
   "id": "adcc32e8-e381-4d34-ae65-6cc3554c2509",
   "metadata": {
    "tags": []
   },
   "outputs": [
    {
     "name": "stdout",
     "output_type": "stream",
     "text": [
      "(array([ 20,  44,  77, 101]),)\n",
      "(array([ 20,  44,  77, 100]),)\n",
      "(array([20, 44, 78]),)\n",
      "(array([19, 43, 78]),)\n",
      "(array([19, 44, 78]),)\n"
     ]
    }
   ],
   "source": [
    "pixel_x = 225 # X座標\n",
    "pixel_y = 225  # Y座標\n",
    "\n",
    "y = []\n",
    "for spec_img in spec_imgs:\n",
    "    y.append(spec_img.read_pixel(512-pixel_x,pixel_y)[:121])\n",
    "\n",
    "for elem in y:\n",
    "    print(argrelmax(elem,order=3))"
   ]
  }
 ],
 "metadata": {
  "kernelspec": {
   "display_name": "Python 3 (ipykernel)",
   "language": "python",
   "name": "python3"
  },
  "language_info": {
   "codemirror_mode": {
    "name": "ipython",
    "version": 3
   },
   "file_extension": ".py",
   "mimetype": "text/x-python",
   "name": "python",
   "nbconvert_exporter": "python",
   "pygments_lexer": "ipython3",
   "version": "3.9.7"
  }
 },
 "nbformat": 4,
 "nbformat_minor": 5
}
