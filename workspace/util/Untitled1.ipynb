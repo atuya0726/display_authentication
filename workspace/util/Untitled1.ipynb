{
 "cells": [
  {
   "cell_type": "code",
   "execution_count": 18,
   "id": "f4632a02-0221-4911-811c-5e577c949414",
   "metadata": {
    "tags": []
   },
   "outputs": [],
   "source": [
    "from PIL import Image\n",
    "\n",
    "# 画像を読み込む\n",
    "image = Image.open(\"like_qr.jpg\")  # 画像ファイルのパスを指定\n",
    "\n",
    "# 画像のサイズを取得\n",
    "width, height = image.size\n",
    "\n",
    "# 四隅の座標を初期化\n",
    "top_left = []\n",
    "top_right = []\n",
    "bottom_left = []\n",
    "bottom_right = []\n",
    "\n",
    "# 画像の四隅から黒色の座標を探す\n",
    "for x in range(width):\n",
    "    for y in range(height):\n",
    "        pixel = image.getpixel((x, y))\n",
    "        if pixel[0]+pixel[1]+pixel[2] > 250*3:  # 黒色のピクセル\n",
    "            if x < width / 2 and y < height / 2:\n",
    "                top_left.append((x, y))\n",
    "            elif x >= width / 2 and y < height / 2:\n",
    "                top_right.append((x, y))\n",
    "            elif x < width / 2 and y >= height / 2:\n",
    "                bottom_left.append((x, y))\n",
    "            elif x >= width / 2 and y >= height / 2:\n",
    "                bottom_right.append((x, y))\n",
    "\n",
    "# 四隅が見つかった場合、切り出す\n",
    "if top_left and top_right and bottom_left and bottom_right:\n",
    "    cropped_image = image.crop((top_left[-1][0], top_left[-1][1], bottom_right[0][0], bottom_right[0][1]))\n",
    "    cropped_image.save(\"./output/cropped_image.png\")  # 切り出した画像を保存\n",
    "else:\n",
    "    print(\"四隅の黒色が見つかりませんでした。\")\n",
    "\n"
   ]
  },
  {
   "cell_type": "code",
   "execution_count": 15,
   "id": "95bda94b-66bb-4868-aa76-2dafb7ff12bc",
   "metadata": {
    "tags": []
   },
   "outputs": [
    {
     "name": "stdout",
     "output_type": "stream",
     "text": [
      "231\n"
     ]
    }
   ],
   "source": [
    "from PIL import Image\n",
    "\n",
    "# 画像を読み込む\n",
    "image = Image.open(\"./output/cropped_image.png\")\n",
    "print(image.getpixel((1,1))[0])"
   ]
  },
  {
   "cell_type": "code",
   "execution_count": null,
   "id": "7d542492-c0c6-48ea-8519-1324bec44754",
   "metadata": {},
   "outputs": [],
   "source": []
  }
 ],
 "metadata": {
  "kernelspec": {
   "display_name": "Python 3 (ipykernel)",
   "language": "python",
   "name": "python3"
  },
  "language_info": {
   "codemirror_mode": {
    "name": "ipython",
    "version": 3
   },
   "file_extension": ".py",
   "mimetype": "text/x-python",
   "name": "python",
   "nbconvert_exporter": "python",
   "pygments_lexer": "ipython3",
   "version": "3.9.7"
  }
 },
 "nbformat": 4,
 "nbformat_minor": 5
}
