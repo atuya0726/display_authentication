{
 "cells": [
  {
   "cell_type": "code",
   "execution_count": 2,
   "id": "8537b80b-3707-4e17-93f3-b27622d12fe3",
   "metadata": {
    "tags": []
   },
   "outputs": [],
   "source": [
    "from PIL import Image\n",
    "\n",
    "# 画像を開く\n",
    "image = Image.open('/data/iphone_blue_200_stegano_2023-08-07_010/results/RGBSCENE_2023-08-07_010.png')  # 画像ファイル名を指定してください\n",
    "\n",
    "# トリミング座標\n",
    "left = 265\n",
    "top = 240\n",
    "right = image.width - 315\n",
    "bottom = image.height - 20\n",
    "\n",
    "# トリミング\n",
    "cropped_image = image.crop((left, top, right, bottom))\n",
    "\n",
    "# サイズ変更\n",
    "new_width = int(cropped_image.width * 0.731428)\n",
    "new_height = int(cropped_image.height * 0.731428)\n",
    "resized_image = cropped_image.resize((new_width, new_height))\n",
    "\n",
    "# 出力\n",
    "resized_image.save('/data/iphone_blue_200_stegano_2023-08-07_010/results/output_image.png') "
   ]
  }
 ],
 "metadata": {
  "kernelspec": {
   "display_name": "Python 3 (ipykernel)",
   "language": "python",
   "name": "python3"
  },
  "language_info": {
   "codemirror_mode": {
    "name": "ipython",
    "version": 3
   },
   "file_extension": ".py",
   "mimetype": "text/x-python",
   "name": "python",
   "nbconvert_exporter": "python",
   "pygments_lexer": "ipython3",
   "version": "3.9.7"
  }
 },
 "nbformat": 4,
 "nbformat_minor": 5
}
