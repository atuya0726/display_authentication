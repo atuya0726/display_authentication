{
 "cells": [
  {
   "cell_type": "code",
   "execution_count": 3,
   "id": "d700c32e-a86a-4fb5-88dd-31dc255a91f0",
   "metadata": {
    "tags": []
   },
   "outputs": [
    {
     "name": "stdout",
     "output_type": "stream",
     "text": [
      "<class 'numpy.ndarray'>\n"
     ]
    },
    {
     "data": {
      "image/png": "[encoded data removed]",
      "text/plain": [
       "<Figure size 640x480 with 1 Axes>"
      ]
     },
     "metadata": {},
     "output_type": "display_data"
    }
   ],
   "source": [
    "import numpy as np\n",
    "import matplotlib.pyplot as plt\n",
    "import random\n",
    "\n",
    "from PIL import Image\n",
    "\n",
    "\n",
    "\n",
    "# 4x6の数値データ（例としてランダムな数値を生成）\n",
    "# data = np.random.random((5, 3))\n",
    "data = [\n",
    "    [1,1,1],\n",
    "    [0,0,1],\n",
    "    [1,1,1],\n",
    "    [1,0,0],\n",
    "    [1,1,1]]\n",
    "\n",
    "for i,elems in enumerate(data):\n",
    "    for j,elem in enumerate(elems):\n",
    "        if elem == 1:\n",
    "            data[i][j] = [random.randint(0,255),random.randint(0, 255),200]\n",
    "        else:\n",
    "            data[i][j] = [random.randint(0, 255),random.randint(0, 255),random.randint(0, 150)]\n",
    "    \n",
    "data = np.array(data)\n",
    "print(type(data))\n",
    "# pil_image = Image.fromarray(data)\n",
    "# 画像の表示\n",
    "plt.imshow(data, vmin=0, vmax=255, interpolation='none')\n",
    "plt.axis('off')  # 軸目盛りを非表示\n",
    "plt.show()"
   ]
  },
  {
   "cell_type": "code",
   "execution_count": 5,
   "id": "f7795d37-62ff-4b3f-a9f7-d362b8546d28",
   "metadata": {},
   "outputs": [
    {
     "name": "stdout",
     "output_type": "stream",
     "text": [
      "[[[177, 77, 200], [171, 63, 200], [111, 106, 200]], [[13, 101, 68], [85, 101, 77], [95, 86, 200]], [[157, 242, 200], [44, 96, 200], [115, 32, 200]], [[68, 194, 200], [156, 30, 43], [200, 154, 150]], [[240, 252, 200], [162, 109, 200], [129, 17, 200]]]\n"
     ]
    }
   ],
   "source": [
    "print(data)"
   ]
  },
  {
   "cell_type": "code",
   "execution_count": null,
   "id": "4415a03f-86a3-4981-87f1-8b28420e505b",
   "metadata": {},
   "outputs": [],
   "source": []
  }
 ],
 "metadata": {
  "kernelspec": {
   "display_name": "Python 3 (ipykernel)",
   "language": "python",
   "name": "python3"
  },
  "language_info": {
   "codemirror_mode": {
    "name": "ipython",
    "version": 3
   },
   "file_extension": ".py",
   "mimetype": "text/x-python",
   "name": "python",
   "nbconvert_exporter": "python",
   "pygments_lexer": "ipython3",
   "version": "3.9.7"
  }
 },
 "nbformat": 4,
 "nbformat_minor": 5
}
