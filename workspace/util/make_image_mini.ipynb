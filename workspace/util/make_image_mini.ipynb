{
 "cells": [
  {
   "cell_type": "code",
   "execution_count": 12,
   "id": "d700c32e-a86a-4fb5-88dd-31dc255a91f0",
   "metadata": {
    "tags": []
   },
   "outputs": [
    {
     "data": {
      "image/png": "[encoded data removed]",
      "text/plain": [
       "<Figure size 640x480 with 1 Axes>"
      ]
     },
     "metadata": {},
     "output_type": "display_data"
    }
   ],
   "source": [
    "import numpy as np\n",
    "import matplotlib.pyplot as plt\n",
    "import random\n",
    "\n",
    "from PIL import Image\n",
    "\n",
    "\n",
    "\n",
    "# 4x6の数値データ（例としてランダムな数値を生成）\n",
    "# data = np.random.random((5, 3))\n",
    "data = [\n",
    "    [1,1,1],\n",
    "    [0,0,1],\n",
    "    [1,1,1],\n",
    "    [1,0,0],\n",
    "    [1,1,1]]\n",
    "\n",
    "for i,elems in enumerate(data):\n",
    "    for j,elem in enumerate(elems):\n",
    "        if elem == 1:\n",
    "            data[i][j] = [random.randint(0,255),200,random.randint(0, 255)]\n",
    "        else:\n",
    "            data[i][j] = [random.randint(0, 255),random.randint(0, 150),random.randint(0, 255)]\n",
    "    \n",
    "# 画像の表示\n",
    "plt.imshow(data, vmin=0, vmax=255, interpolation='none')\n",
    "plt.axis('off')  # 軸目盛りを非表示\n",
    "plt.show()"
   ]
  },
  {
   "cell_type": "code",
   "execution_count": 13,
   "id": "f7795d37-62ff-4b3f-a9f7-d362b8546d28",
   "metadata": {},
   "outputs": [
    {
     "name": "stdout",
     "output_type": "stream",
     "text": [
      "[[[41, 200, 145], [228, 200, 7], [219, 200, 72]], [[2, 37, 204], [140, 131, 145], [13, 200, 126]], [[178, 200, 245], [127, 200, 251], [152, 200, 162]], [[61, 200, 237], [242, 81, 35], [32, 124, 95]], [[71, 200, 45], [95, 200, 82], [22, 200, 124]]]\n"
     ]
    }
   ],
   "source": [
    "print(data)"
   ]
  },
  {
   "cell_type": "code",
   "execution_count": null,
   "id": "4415a03f-86a3-4981-87f1-8b28420e505b",
   "metadata": {},
   "outputs": [],
   "source": []
  }
 ],
 "metadata": {
  "kernelspec": {
   "display_name": "Python 3 (ipykernel)",
   "language": "python",
   "name": "python3"
  },
  "language_info": {
   "codemirror_mode": {
    "name": "ipython",
    "version": 3
   },
   "file_extension": ".py",
   "mimetype": "text/x-python",
   "name": "python",
   "nbconvert_exporter": "python",
   "pygments_lexer": "ipython3",
   "version": "3.9.7"
  }
 },
 "nbformat": 4,
 "nbformat_minor": 5
}
