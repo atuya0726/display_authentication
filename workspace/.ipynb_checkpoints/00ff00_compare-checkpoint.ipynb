{
 "cells": [
  {
   "cell_type": "code",
   "execution_count": 15,
   "id": "c2936c87-c245-4a41-9e45-7eae165f8d01",
   "metadata": {
    "tags": []
   },
   "outputs": [],
   "source": [
    "\n",
    "import spectral as spy\n",
    "import spectral.io.envi as envi\n",
    "\n",
    "import pandas as pd\n",
    "import numpy as np\n",
    "\n",
    "import matplotlib.pyplot as plt\n",
    "\n",
    "from PIL import Image\n",
    "import csv\n",
    "import mplcursors"
   ]
  },
  {
   "cell_type": "code",
   "execution_count": 16,
   "id": "0dca90e7-f110-460d-9a41-c1d65ebc649d",
   "metadata": {
    "tags": []
   },
   "outputs": [],
   "source": [
    "HDR_PATH_iphone = '../data/iphone_00ff00_2023-07-24_025/results/REFLECTANCE_iphone_00ff00_2023-07-24_025.hdr'\n",
    "HDR_PATH_pixel = '../data/pixel_00ff00_2023-07-24_026/results/REFLECTANCE_pixel_00ff00_2023-07-24_026.hdr'\n",
    "HDR_PATH_huawei = '../data/huawei_00ff00_2023-07-24_027/results/REFLECTANCE_huawei_00ff00_2023-07-24_027.hdr'\n",
    "\n",
    "IMG_PATH_iphone = '../data/iphone_00ff00_2023-07-24_025/results/REFLECTANCE_iphone_00ff00_2023-07-24_025.png'\n",
    "IMG_PATH_pixel = '../data/pixel_00ff00_2023-07-24_026/results/REFLECTANCE_pixel_00ff00_2023-07-24_026.png'\n",
    "IMG_PATH_huawei = '../data/huawei_00ff00_2023-07-24_027/results/REFLECTANCE_huawei_00ff00_2023-07-24_027.png'"
   ]
  },
  {
   "cell_type": "code",
   "execution_count": 17,
   "id": "54c9ed32-8876-4d67-8ec6-121c812d593c",
   "metadata": {
    "tags": []
   },
   "outputs": [],
   "source": [
    "spec_img_i = envi.open(HDR_PATH_iphone)\n",
    "spec_img_p = envi.open(HDR_PATH_pixel)\n",
    "spec_img_h = envi.open(HDR_PATH_huawei)"
   ]
  },
  {
   "cell_type": "code",
   "execution_count": 18,
   "id": "e7ca2e95-c9e4-4497-9688-96461c7ac30e",
   "metadata": {
    "tags": []
   },
   "outputs": [],
   "source": [
    "wave_lengthes = []\n",
    "hdr = envi.read_envi_header(HDR_PATH_iphone)\n",
    "\n",
    "for wl in hdr['wavelength']:\n",
    "    wave_lengthes.append(float(wl))"
   ]
  },
  {
   "cell_type": "code",
   "execution_count": 19,
   "id": "adcc32e8-e381-4d34-ae65-6cc3554c2509",
   "metadata": {
    "tags": []
   },
   "outputs": [],
   "source": [
    "pixel_x = 225 # X座標\n",
    "pixel_y = 225  # Y座標\n",
    "color = (255, 0, 0)  # 色(RGB値)\n",
    "\n",
    "range=[-1,0,1]\n",
    "image_i = Image.open(IMG_PATH_iphone)\n",
    "for i in range:\n",
    "    for j in range:\n",
    "        image_i.putpixel((pixel_x+i, pixel_y+j), color)\n",
    "        \n",
    "image_p = Image.open(IMG_PATH_iphone)\n",
    "for i in range:\n",
    "    for j in range:\n",
    "        image_p.putpixel((pixel_x+i, pixel_y+j), color)\n",
    "image_h = Image.open(IMG_PATH_iphone)\n",
    "for i in range:\n",
    "    for j in range:\n",
    "        image_h.putpixel((pixel_x+i, pixel_y+j), color)\n",
    "\n",
    "x = wave_lengthes[:121]\n",
    "y_i = spec_img_i.read_pixel(512-pixel_x,pixel_y)[:121]\n",
    "y_p = spec_img_p.read_pixel(512-pixel_x,pixel_y)[:121]\n",
    "y_h = spec_img_h.read_pixel(512-pixel_x,pixel_y)[:121]\n",
    "\n",
    "fig = plt.figure(figsize = (14,5))\n",
    "ax1 = fig.add_subplot(1,4,1)\n",
    "ax2 = fig.add_subplot(1,4,2)\n",
    "ax3 = fig.add_subplot(1,4,3)\n",
    "ax4 = fig.add_subplot(1,4,4)\n",
    "\n",
    "# ax1.plot(x,y_p)\n",
    "lines = ax1.plot(x,y_i)\n",
    "ax1.plot(x,y_p)\n",
    "ax1.plot(x,y_h)\n",
    "mplcursors.cursor(lines)\n",
    "ax2.imshow(image_i)\n",
    "ax2.axis('off')\n",
    "ax3.imshow(image_p)\n",
    "ax4.imshow(image_h)\n",
    "\n",
    "\n",
    "plt.show()"
   ]
  },
  {
   "cell_type": "code",
   "execution_count": 12,
   "id": "811c1e3a-7ace-412b-bbae-1a7ac73233e8",
   "metadata": {
    "tags": []
   },
   "outputs": [
    {
     "data": {
      "text/plain": [
       "array([0.42028984, 0.33734939, 0.28282827, 0.25438598, 0.23846154,\n",
       "       0.21232876, 0.19254659, 0.1741573 , 0.15463917, 0.14150943,\n",
       "       0.13733906, 0.12698413, 0.12363636, 0.11036789, 0.11145511,\n",
       "       0.10951009, 0.1152815 , 0.12121212, 0.12619048, 0.12808989,\n",
       "       0.12366737, 0.11693548, 0.10687023, 0.09981851, 0.0927835 ,\n",
       "       0.08674304, 0.07680251, 0.0761194 , 0.07030129, 0.06896552,\n",
       "       0.06481481, 0.06743003, 0.0695122 , 0.0771028 , 0.08436445,\n",
       "       0.10032362, 0.12876427, 0.16666667, 0.22211446, 0.28625235,\n",
       "       0.35224155, 0.41740674, 0.4602076 , 0.48948696, 0.49262294,\n",
       "       0.4811245 , 0.4568289 , 0.4136608 , 0.3770739 , 0.33086053,\n",
       "       0.28613138, 0.2514409 , 0.2200142 , 0.18763177, 0.1686329 ,\n",
       "       0.14883402, 0.12916383, 0.11827957, 0.10505319, 0.09319233,\n",
       "       0.08436887, 0.07777058, 0.06963249, 0.06470212, 0.06305733,\n",
       "       0.05916031, 0.05509816, 0.05707039, 0.05822785, 0.05945604,\n",
       "       0.06772152, 0.07774968, 0.08843967, 0.10012674, 0.11272958,\n",
       "       0.12309644, 0.12841704, 0.13197969, 0.13248408, 0.12531969,\n",
       "       0.11858974, 0.10910264, 0.09779793, 0.08670144, 0.08015769,\n",
       "       0.07595773, 0.06702057, 0.0616209 , 0.0590604 , 0.05882353,\n",
       "       0.05582029, 0.05342466, 0.05252246, 0.05230125, 0.05203938,\n",
       "       0.04904051, 0.05075053, 0.05126354, 0.05197657, 0.0504451 ,\n",
       "       0.05271084, 0.05432288, 0.05124224, 0.05321684, 0.05438312,\n",
       "       0.05638474, 0.05872341, 0.06097561, 0.06382979, 0.06306306,\n",
       "       0.06648452, 0.06858202, 0.07163054, 0.07190796, 0.07624634,\n",
       "       0.07976072, 0.0841785 , 0.093361  , 0.09830867, 0.10355987,\n",
       "       0.10462555], dtype=float32)"
      ]
     },
     "execution_count": 12,
     "metadata": {},
     "output_type": "execute_result"
    }
   ],
   "source": [
    "y_i #20 44 78"
   ]
  },
  {
   "cell_type": "code",
   "execution_count": 7,
   "id": "9c94e213-6996-4606-9aab-035d9e4bc6d4",
   "metadata": {
    "tags": []
   },
   "outputs": [
    {
     "name": "stdout",
     "output_type": "stream",
     "text": [
      "0.123667374\n",
      "0.49262294\n",
      "0.13248408\n"
     ]
    }
   ],
   "source": [
    "rgb = [20,44,78]\n",
    "for i in rgb:\n",
    "    print(y_i[i])"
   ]
  },
  {
   "cell_type": "code",
   "execution_count": 8,
   "id": "767b2d07-09a7-4254-bea0-153d805968af",
   "metadata": {
    "tags": []
   },
   "outputs": [
    {
     "name": "stdout",
     "output_type": "stream",
     "text": [
      "0.14460285\n",
      "0.5912762\n",
      "0.0969163\n"
     ]
    }
   ],
   "source": [
    "for i in rgb:\n",
    "    print(y_p[i])"
   ]
  },
  {
   "cell_type": "code",
   "execution_count": 9,
   "id": "84349de5-50af-47de-a78a-eae67fa7e70a",
   "metadata": {
    "tags": []
   },
   "outputs": [
    {
     "name": "stdout",
     "output_type": "stream",
     "text": [
      "0.06410257\n",
      "0.6168991\n",
      "0.029336736\n"
     ]
    }
   ],
   "source": [
    "for i in rgb:\n",
    "    print(y_h[i])"
   ]
  },
  {
   "cell_type": "code",
   "execution_count": null,
   "id": "c58f3653-8c5f-42ed-a8b8-371b6038da56",
   "metadata": {},
   "outputs": [],
   "source": []
  }
 ],
 "metadata": {
  "kernelspec": {
   "display_name": "Python 3 (ipykernel)",
   "language": "python",
   "name": "python3"
  },
  "language_info": {
   "codemirror_mode": {
    "name": "ipython",
    "version": 3
   },
   "file_extension": ".py",
   "mimetype": "text/x-python",
   "name": "python",
   "nbconvert_exporter": "python",
   "pygments_lexer": "ipython3",
   "version": "3.9.7"
  }
 },
 "nbformat": 4,
 "nbformat_minor": 5
}
