{
 "cells": [
  {
   "cell_type": "code",
   "execution_count": 1,
   "id": "c2936c87-c245-4a41-9e45-7eae165f8d01",
   "metadata": {
    "tags": []
   },
   "outputs": [],
   "source": [
    "%matplotlib widget\n",
    "import spectral as spy\n",
    "import spectral.io.envi as envi\n",
    "\n",
    "import pandas as pd\n",
    "import numpy as np\n",
    "\n",
    "import matplotlib.pyplot as plt\n",
    "import japanize_matplotlib\n",
    "\n",
    "from PIL import Image\n",
    "import csv\n",
    "import mplcursors\n",
    "\n",
    "from scipy.signal import argrelmax"
   ]
  },
  {
   "cell_type": "code",
   "execution_count": 2,
   "id": "0dca90e7-f110-460d-9a41-c1d65ebc649d",
   "metadata": {
    "tags": []
   },
   "outputs": [],
   "source": [
    "HDR_PATH_iphone = '../data/iphone_808080_5_2023-07-24_007/results/REFLECTANCE_iphone_808080_2023-07-24_007.hdr'\n",
    "HDR_PATH_pixel = '../data/pixel_808080_2023-07-24_009/results/REFLECTANCE_pixel_808080_2023-07-24_009.hdr'\n",
    "HDR_PATH_huawei = '../data/huawei_808080_2023-07-24_010/results/REFLECTANCE_huawei_808080_2023-07-24_010.hdr'\n",
    "\n",
    "IMG_PATH_iphone = '../data/iphone_808080_5_2023-07-24_007/results/REFLECTANCE_iphone_808080_2023-07-24_007.png'\n",
    "IMG_PATH_pixel = '../data/pixel_808080_2023-07-24_009/results/REFLECTANCE_pixel_808080_2023-07-24_009.png'\n",
    "IMG_PATH_huawei = '../data/huawei_808080_2023-07-24_010/results/REFLECTANCE_huawei_808080_2023-07-24_010.png'"
   ]
  },
  {
   "cell_type": "code",
   "execution_count": 3,
   "id": "54c9ed32-8876-4d67-8ec6-121c812d593c",
   "metadata": {
    "tags": []
   },
   "outputs": [
    {
     "ename": "FileNotFoundError",
     "evalue": "Unable to locate file \"../data/iphone_808080_5_2023-07-24_007/results/REFLECTANCE_iphone_808080_2023-07-24_007.hdr\". If the file exists, use its full path or place its directory in the SPECTRAL_DATA environment variable.",
     "output_type": "error",
     "traceback": [
      "\u001b[0;31m---------------------------------------------------------------------------\u001b[0m",
      "\u001b[0;31mFileNotFoundError\u001b[0m                         Traceback (most recent call last)",
      "Cell \u001b[0;32mIn[3], line 1\u001b[0m\n\u001b[0;32m----> 1\u001b[0m spec_img_i \u001b[38;5;241m=\u001b[39m \u001b[43menvi\u001b[49m\u001b[38;5;241;43m.\u001b[39;49m\u001b[43mopen\u001b[49m\u001b[43m(\u001b[49m\u001b[43mHDR_PATH_iphone\u001b[49m\u001b[43m)\u001b[49m\n\u001b[1;32m      2\u001b[0m spec_img_p \u001b[38;5;241m=\u001b[39m envi\u001b[38;5;241m.\u001b[39mopen(HDR_PATH_pixel)\n\u001b[1;32m      3\u001b[0m spec_img_h \u001b[38;5;241m=\u001b[39m envi\u001b[38;5;241m.\u001b[39mopen(HDR_PATH_huawei)\n",
      "File \u001b[0;32m/usr/local/lib/python3.9/site-packages/spectral/io/envi.py:289\u001b[0m, in \u001b[0;36mopen\u001b[0;34m(file, image)\u001b[0m\n\u001b[1;32m    257\u001b[0m \u001b[38;5;28;01mdef\u001b[39;00m \u001b[38;5;21mopen\u001b[39m(file, image\u001b[38;5;241m=\u001b[39m\u001b[38;5;28;01mNone\u001b[39;00m):\n\u001b[1;32m    258\u001b[0m \u001b[38;5;250m    \u001b[39m\u001b[38;5;124;03m'''\u001b[39;00m\n\u001b[1;32m    259\u001b[0m \u001b[38;5;124;03m    Opens an image or spectral library with an associated ENVI HDR header file.\u001b[39;00m\n\u001b[1;32m    260\u001b[0m \n\u001b[0;32m   (...)\u001b[0m\n\u001b[1;32m    286\u001b[0m \u001b[38;5;124;03m    Capitalized versions of the file extensions are also searched.\u001b[39;00m\n\u001b[1;32m    287\u001b[0m \u001b[38;5;124;03m    '''\u001b[39;00m\n\u001b[0;32m--> 289\u001b[0m     header_path \u001b[38;5;241m=\u001b[39m \u001b[43mfind_file_path\u001b[49m\u001b[43m(\u001b[49m\u001b[43mfile\u001b[49m\u001b[43m)\u001b[49m\n\u001b[1;32m    290\u001b[0m     h \u001b[38;5;241m=\u001b[39m read_envi_header(header_path)\n\u001b[1;32m    291\u001b[0m     check_compatibility(h)\n",
      "File \u001b[0;32m/usr/local/lib/python3.9/site-packages/spectral/io/spyfile.py:120\u001b[0m, in \u001b[0;36mfind_file_path\u001b[0;34m(filename)\u001b[0m\n\u001b[1;32m    116\u001b[0m \u001b[38;5;28;01mif\u001b[39;00m \u001b[38;5;129;01mnot\u001b[39;00m pathname:\n\u001b[1;32m    117\u001b[0m     msg \u001b[38;5;241m=\u001b[39m \u001b[38;5;124m'\u001b[39m\u001b[38;5;124mUnable to locate file \u001b[39m\u001b[38;5;124m\"\u001b[39m\u001b[38;5;132;01m%s\u001b[39;00m\u001b[38;5;124m\"\u001b[39m\u001b[38;5;124m. If the file exists, \u001b[39m\u001b[38;5;124m'\u001b[39m \\\n\u001b[1;32m    118\u001b[0m       \u001b[38;5;124m'\u001b[39m\u001b[38;5;124muse its full path or place its directory in the \u001b[39m\u001b[38;5;124m'\u001b[39m \\\n\u001b[1;32m    119\u001b[0m       \u001b[38;5;124m'\u001b[39m\u001b[38;5;124mSPECTRAL_DATA environment variable.\u001b[39m\u001b[38;5;124m'\u001b[39m  \u001b[38;5;241m%\u001b[39m filename\n\u001b[0;32m--> 120\u001b[0m     \u001b[38;5;28;01mraise\u001b[39;00m \u001b[38;5;167;01mFileNotFoundError\u001b[39;00m(msg)\n\u001b[1;32m    121\u001b[0m \u001b[38;5;28;01mreturn\u001b[39;00m pathname\n",
      "\u001b[0;31mFileNotFoundError\u001b[0m: Unable to locate file \"../data/iphone_808080_5_2023-07-24_007/results/REFLECTANCE_iphone_808080_2023-07-24_007.hdr\". If the file exists, use its full path or place its directory in the SPECTRAL_DATA environment variable."
     ]
    }
   ],
   "source": [
    "spec_img_i = envi.open(HDR_PATH_iphone)\n",
    "spec_img_p = envi.open(HDR_PATH_pixel)\n",
    "spec_img_h = envi.open(HDR_PATH_huawei)"
   ]
  },
  {
   "cell_type": "code",
   "execution_count": 7,
   "id": "e7ca2e95-c9e4-4497-9688-96461c7ac30e",
   "metadata": {
    "tags": []
   },
   "outputs": [
    {
     "ename": "FileNotFoundError",
     "evalue": "[Errno 2] No such file or directory: '../data/iphone_808080_5_2023-07-24_007/results/REFLECTANCE_iphone_808080_2023-07-24_007.hdr'",
     "output_type": "error",
     "traceback": [
      "\u001b[0;31m---------------------------------------------------------------------------\u001b[0m",
      "\u001b[0;31mFileNotFoundError\u001b[0m                         Traceback (most recent call last)",
      "Cell \u001b[0;32mIn[7], line 2\u001b[0m\n\u001b[1;32m      1\u001b[0m wave_lengthes \u001b[38;5;241m=\u001b[39m []\n\u001b[0;32m----> 2\u001b[0m hdr \u001b[38;5;241m=\u001b[39m \u001b[43menvi\u001b[49m\u001b[38;5;241;43m.\u001b[39;49m\u001b[43mread_envi_header\u001b[49m\u001b[43m(\u001b[49m\u001b[43mHDR_PATH_iphone\u001b[49m\u001b[43m)\u001b[49m\n\u001b[1;32m      4\u001b[0m \u001b[38;5;28;01mfor\u001b[39;00m wl \u001b[38;5;129;01min\u001b[39;00m hdr[\u001b[38;5;124m'\u001b[39m\u001b[38;5;124mwavelength\u001b[39m\u001b[38;5;124m'\u001b[39m]:\n\u001b[1;32m      5\u001b[0m     wave_lengthes\u001b[38;5;241m.\u001b[39mappend(\u001b[38;5;28mfloat\u001b[39m(wl))\n",
      "File \u001b[0;32m/usr/local/lib/python3.9/site-packages/spectral/io/envi.py:117\u001b[0m, in \u001b[0;36mread_envi_header\u001b[0;34m(file)\u001b[0m\n\u001b[1;32m    109\u001b[0m \u001b[38;5;28;01mdef\u001b[39;00m \u001b[38;5;21mread_envi_header\u001b[39m(file):\n\u001b[1;32m    110\u001b[0m \u001b[38;5;250m    \u001b[39m\u001b[38;5;124;03m'''\u001b[39;00m\n\u001b[1;32m    111\u001b[0m \u001b[38;5;124;03m    USAGE: hdr = read_envi_header(file)\u001b[39;00m\n\u001b[1;32m    112\u001b[0m \n\u001b[0;32m   (...)\u001b[0m\n\u001b[1;32m    115\u001b[0m \u001b[38;5;124;03m    insensitive and all keys in the dictionary are lowercase.\u001b[39;00m\n\u001b[1;32m    116\u001b[0m \u001b[38;5;124;03m    '''\u001b[39;00m\n\u001b[0;32m--> 117\u001b[0m     f \u001b[38;5;241m=\u001b[39m \u001b[43mbuiltins\u001b[49m\u001b[38;5;241;43m.\u001b[39;49m\u001b[43mopen\u001b[49m\u001b[43m(\u001b[49m\u001b[43mfile\u001b[49m\u001b[43m,\u001b[49m\u001b[43m \u001b[49m\u001b[38;5;124;43m'\u001b[39;49m\u001b[38;5;124;43mr\u001b[39;49m\u001b[38;5;124;43m'\u001b[39;49m\u001b[43m)\u001b[49m\n\u001b[1;32m    119\u001b[0m     \u001b[38;5;28;01mtry\u001b[39;00m:\n\u001b[1;32m    120\u001b[0m         starts_with_ENVI \u001b[38;5;241m=\u001b[39m f\u001b[38;5;241m.\u001b[39mreadline()\u001b[38;5;241m.\u001b[39mstrip()\u001b[38;5;241m.\u001b[39mstartswith(\u001b[38;5;124m'\u001b[39m\u001b[38;5;124mENVI\u001b[39m\u001b[38;5;124m'\u001b[39m)\n",
      "\u001b[0;31mFileNotFoundError\u001b[0m: [Errno 2] No such file or directory: '../data/iphone_808080_5_2023-07-24_007/results/REFLECTANCE_iphone_808080_2023-07-24_007.hdr'"
     ]
    }
   ],
   "source": [
    "wave_lengthes = []\n",
    "hdr = envi.read_envi_header(HDR_PATH_iphone)\n",
    "\n",
    "for wl in hdr['wavelength']:\n",
    "    wave_lengthes.append(float(wl))"
   ]
  },
  {
   "cell_type": "code",
   "execution_count": 5,
   "id": "adcc32e8-e381-4d34-ae65-6cc3554c2509",
   "metadata": {
    "tags": []
   },
   "outputs": [
    {
     "ename": "FileNotFoundError",
     "evalue": "[Errno 2] No such file or directory: '../data/iphone_808080_5_2023-07-24_007/results/REFLECTANCE_iphone_808080_2023-07-24_007.png'",
     "output_type": "error",
     "traceback": [
      "\u001b[0;31m---------------------------------------------------------------------------\u001b[0m",
      "\u001b[0;31mFileNotFoundError\u001b[0m                         Traceback (most recent call last)",
      "Cell \u001b[0;32mIn[5], line 6\u001b[0m\n\u001b[1;32m      3\u001b[0m color \u001b[38;5;241m=\u001b[39m (\u001b[38;5;241m255\u001b[39m, \u001b[38;5;241m0\u001b[39m, \u001b[38;5;241m0\u001b[39m)  \u001b[38;5;66;03m# 色(RGB値)\u001b[39;00m\n\u001b[1;32m      5\u001b[0m \u001b[38;5;28mrange\u001b[39m\u001b[38;5;241m=\u001b[39m[\u001b[38;5;241m-\u001b[39m\u001b[38;5;241m1\u001b[39m,\u001b[38;5;241m0\u001b[39m,\u001b[38;5;241m1\u001b[39m]\n\u001b[0;32m----> 6\u001b[0m image_i \u001b[38;5;241m=\u001b[39m \u001b[43mImage\u001b[49m\u001b[38;5;241;43m.\u001b[39;49m\u001b[43mopen\u001b[49m\u001b[43m(\u001b[49m\u001b[43mIMG_PATH_iphone\u001b[49m\u001b[43m)\u001b[49m\n\u001b[1;32m      7\u001b[0m \u001b[38;5;28;01mfor\u001b[39;00m i \u001b[38;5;129;01min\u001b[39;00m \u001b[38;5;28mrange\u001b[39m:\n\u001b[1;32m      8\u001b[0m     \u001b[38;5;28;01mfor\u001b[39;00m j \u001b[38;5;129;01min\u001b[39;00m \u001b[38;5;28mrange\u001b[39m:\n",
      "File \u001b[0;32m/usr/local/lib/python3.9/site-packages/PIL/Image.py:3218\u001b[0m, in \u001b[0;36mopen\u001b[0;34m(fp, mode, formats)\u001b[0m\n\u001b[1;32m   3215\u001b[0m     filename \u001b[38;5;241m=\u001b[39m fp\n\u001b[1;32m   3217\u001b[0m \u001b[38;5;28;01mif\u001b[39;00m filename:\n\u001b[0;32m-> 3218\u001b[0m     fp \u001b[38;5;241m=\u001b[39m \u001b[43mbuiltins\u001b[49m\u001b[38;5;241;43m.\u001b[39;49m\u001b[43mopen\u001b[49m\u001b[43m(\u001b[49m\u001b[43mfilename\u001b[49m\u001b[43m,\u001b[49m\u001b[43m \u001b[49m\u001b[38;5;124;43m\"\u001b[39;49m\u001b[38;5;124;43mrb\u001b[39;49m\u001b[38;5;124;43m\"\u001b[39;49m\u001b[43m)\u001b[49m\n\u001b[1;32m   3219\u001b[0m     exclusive_fp \u001b[38;5;241m=\u001b[39m \u001b[38;5;28;01mTrue\u001b[39;00m\n\u001b[1;32m   3221\u001b[0m \u001b[38;5;28;01mtry\u001b[39;00m:\n",
      "\u001b[0;31mFileNotFoundError\u001b[0m: [Errno 2] No such file or directory: '../data/iphone_808080_5_2023-07-24_007/results/REFLECTANCE_iphone_808080_2023-07-24_007.png'"
     ]
    }
   ],
   "source": [
    "pixel_x = 210 # X座標\n",
    "pixel_y = 225  # Y座標\n",
    "color = (255, 0, 0)  # 色(RGB値)\n",
    "\n",
    "range=[-1,0,1]\n",
    "image_i = Image.open(IMG_PATH_iphone)\n",
    "for i in range:\n",
    "    for j in range:\n",
    "        image_i.putpixel((pixel_x+i, pixel_y+j), color)\n",
    "        \n",
    "image_p = Image.open(IMG_PATH_pixel)\n",
    "for i in range:\n",
    "    for j in range:\n",
    "        image_p.putpixel((pixel_x+i, pixel_y+j), color)\n",
    "image_h = Image.open(IMG_PATH_huawei)\n",
    "for i in range:\n",
    "    for j in range:\n",
    "        image_h.putpixel((pixel_x+i, pixel_y+j), color)\n",
    "\n",
    "x = wave_lengthes[:121]\n",
    "y_i = spec_img_i.read_pixel(512-pixel_x,pixel_y)[:121]\n",
    "y_p = spec_img_p.read_pixel(512-pixel_x,pixel_y)[:121]\n",
    "y_h = spec_img_h.read_pixel(512-pixel_x,pixel_y)[:121]\n",
    "\n",
    "fig = plt.figure(figsize = (14,5))\n",
    "ax1 = fig.add_subplot(1,4,1)\n",
    "ax2 = fig.add_subplot(1,4,2)\n",
    "ax3 = fig.add_subplot(1,4,3)\n",
    "ax4 = fig.add_subplot(1,4,4)\n",
    "\n",
    "\n",
    "ax1.plot(x,y_i,label='iphone')\n",
    "ax1.plot(x,y_p,label='pixel')\n",
    "ax1.plot(x,y_h,label='huawei')\n",
    "ax1.set_title('808080（灰色）の三機種比較')\n",
    "ax1.legend()\n",
    "ax2.imshow(image_i)\n",
    "ax2.axis('off')\n",
    "ax3.imshow(image_p)\n",
    "ax4.imshow(image_h)\n",
    "mplcursors.cursor(hover=True)\n",
    "\n",
    "plt.show()"
   ]
  },
  {
   "cell_type": "code",
   "execution_count": 8,
   "id": "9c94e213-6996-4606-9aab-035d9e4bc6d4",
   "metadata": {
    "tags": []
   },
   "outputs": [
    {
     "name": "stdout",
     "output_type": "stream",
     "text": [
      "455.16 0.32723948\n",
      "525.1 0.14558303\n",
      "625.22 0.119337015\n"
     ]
    }
   ],
   "source": [
    "rgb = [20,44,78]\n",
    "for i in rgb:\n",
    "    print(x[i],y_i[i])"
   ]
  },
  {
   "cell_type": "code",
   "execution_count": 9,
   "id": "767b2d07-09a7-4254-bea0-153d805968af",
   "metadata": {
    "tags": []
   },
   "outputs": [
    {
     "name": "stdout",
     "output_type": "stream",
     "text": [
      "455.16 0.4004329\n",
      "525.1 0.1599665\n",
      "625.22 0.09554974\n"
     ]
    }
   ],
   "source": [
    "for i in rgb:\n",
    "    print(x[i],y_p[i])"
   ]
  },
  {
   "cell_type": "code",
   "execution_count": 10,
   "id": "84349de5-50af-47de-a78a-eae67fa7e70a",
   "metadata": {
    "tags": []
   },
   "outputs": [
    {
     "name": "stdout",
     "output_type": "stream",
     "text": [
      "455.16 0.306163\n",
      "525.1 0.12519084\n",
      "625.22 0.056648776\n"
     ]
    }
   ],
   "source": [
    "for i in rgb:\n",
    "    print(x[i],y_h[i])"
   ]
  },
  {
   "cell_type": "markdown",
   "id": "3351ed0b-275e-4fbf-b387-aba1d7ccad9c",
   "metadata": {},
   "source": [
    "### ここから青の最大値の波長探し"
   ]
  },
  {
   "cell_type": "code",
   "execution_count": 17,
   "id": "c58f3653-8c5f-42ed-a8b8-371b6038da56",
   "metadata": {
    "tags": []
   },
   "outputs": [
    {
     "data": {
      "text/plain": [
       "array([0.3026585 , 0.33333334, 0.32175502, 0.2980936 ], dtype=float32)"
      ]
     },
     "execution_count": 17,
     "metadata": {},
     "output_type": "execute_result"
    }
   ],
   "source": [
    "y_i[18:22]"
   ]
  },
  {
   "cell_type": "code",
   "execution_count": 13,
   "id": "0056cf6a-510c-47da-920f-052c44053a7a",
   "metadata": {
    "tags": []
   },
   "outputs": [
    {
     "data": {
      "text/plain": [
       "array([0.23002422, 0.3127854 , 0.3961039 , 0.4262295 ], dtype=float32)"
      ]
     },
     "execution_count": 13,
     "metadata": {},
     "output_type": "execute_result"
    }
   ],
   "source": [
    "y_p[18:22]"
   ]
  },
  {
   "cell_type": "code",
   "execution_count": 15,
   "id": "57c695c3-f2de-4ca1-8f4d-e4215c05d6c9",
   "metadata": {
    "tags": []
   },
   "outputs": [
    {
     "data": {
      "text/plain": [
       "array([0.19777778, 0.25941423, 0.3081511 , 0.35216573], dtype=float32)"
      ]
     },
     "execution_count": 15,
     "metadata": {},
     "output_type": "execute_result"
    }
   ],
   "source": [
    "y_h[18:22]"
   ]
  },
  {
   "cell_type": "markdown",
   "id": "90c16849-beb7-40b2-9dd7-ac45dad40137",
   "metadata": {},
   "source": [
    "### ここから緑の最大値の波長探し"
   ]
  },
  {
   "cell_type": "code",
   "execution_count": 24,
   "id": "a18889ce-78f1-409a-9201-3eb939dcc649",
   "metadata": {
    "tags": []
   },
   "outputs": [
    {
     "data": {
      "text/plain": [
       "array([0.14317673, 0.14607558, 0.14558303, 0.14275815], dtype=float32)"
      ]
     },
     "execution_count": 24,
     "metadata": {},
     "output_type": "execute_result"
    }
   ],
   "source": [
    "y_i[42:46]"
   ]
  },
  {
   "cell_type": "code",
   "execution_count": 19,
   "id": "142bcbf6-73f9-403e-8824-e3500582a4f1",
   "metadata": {
    "tags": []
   },
   "outputs": [
    {
     "data": {
      "text/plain": [
       "array([0.15473032, 0.1616509 , 0.15745394, 0.14848237], dtype=float32)"
      ]
     },
     "execution_count": 19,
     "metadata": {},
     "output_type": "execute_result"
    }
   ],
   "source": [
    "y_p[42:46]"
   ]
  },
  {
   "cell_type": "code",
   "execution_count": 21,
   "id": "8469f85f-0b96-4a8b-897f-cce919df3929",
   "metadata": {
    "tags": []
   },
   "outputs": [
    {
     "data": {
      "text/plain": [
       "array([0.09589041, 0.11450981, 0.12748091, 0.13173653, 0.12783054],\n",
       "      dtype=float32)"
      ]
     },
     "execution_count": 21,
     "metadata": {},
     "output_type": "execute_result"
    }
   ],
   "source": [
    "y_h[42:47]"
   ]
  },
  {
   "cell_type": "code",
   "execution_count": 27,
   "id": "7293037a-8e8d-40da-aab2-48d5e910c201",
   "metadata": {
    "tags": []
   },
   "outputs": [
    {
     "data": {
      "text/plain": [
       "array([0.09250814, 0.09589041, 0.09589041, 0.09554974, 0.09210526],\n",
       "      dtype=float32)"
      ]
     },
     "execution_count": 27,
     "metadata": {},
     "output_type": "execute_result"
    }
   ],
   "source": [
    "y_p[75:80]"
   ]
  },
  {
   "cell_type": "markdown",
   "id": "1e9faf38-502c-4db5-a3be-40d57bf70a74",
   "metadata": {},
   "source": [
    "### ここから赤の最大値の波長探し"
   ]
  },
  {
   "cell_type": "code",
   "execution_count": 19,
   "id": "82fa4d97-dafb-4dac-b3e5-5efcf38621b4",
   "metadata": {
    "tags": []
   },
   "outputs": [
    {
     "name": "stdout",
     "output_type": "stream",
     "text": [
      "(array([19, 43, 78]),) (array([ 21,  43, 100]),) (array([22, 45, 76]),)\n"
     ]
    }
   ],
   "source": [
    "ex_max_i=argrelmax(y_i,order=3)\n",
    "ex_max_p = argrelmax(y_p,order=3)\n",
    "ex_max_h = argrelmax(y_h,order=3)\n",
    "print(ex_max_i,ex_max_p,ex_max_h)"
   ]
  },
  {
   "cell_type": "code",
   "execution_count": 24,
   "id": "8fbc63b5-907a-46a9-b514-5ef1d9e8bc5f",
   "metadata": {
    "tags": []
   },
   "outputs": [
    {
     "name": "stdout",
     "output_type": "stream",
     "text": [
      "0.33526012\n",
      "0.14607558\n",
      "0.119337015\n"
     ]
    }
   ],
   "source": [
    "for elem in ex_max_i[0]:\n",
    "    print(y_i[elem])"
   ]
  },
  {
   "cell_type": "code",
   "execution_count": 25,
   "id": "efd9241e-7920-48d5-964a-02214d15a9ce",
   "metadata": {
    "tags": []
   },
   "outputs": [
    {
     "name": "stdout",
     "output_type": "stream",
     "text": [
      "0.43237704\n",
      "0.16595013\n",
      "0.052018635\n"
     ]
    }
   ],
   "source": [
    "for i in ex_max_p[0]:\n",
    "    print(y_p[i])"
   ]
  },
  {
   "cell_type": "code",
   "execution_count": 28,
   "id": "94e269e0-81e4-487e-9c32-d34f0d77a31c",
   "metadata": {
    "tags": []
   },
   "outputs": [
    {
     "name": "stdout",
     "output_type": "stream",
     "text": [
      "0.35472372\n",
      "0.12799402\n",
      "0.062425684\n"
     ]
    }
   ],
   "source": [
    "for i in ex_max_h[0]:\n",
    "    print(y_h[i])"
   ]
  },
  {
   "cell_type": "code",
   "execution_count": null,
   "id": "2c1b5919-fde4-4df9-85da-8227a00af158",
   "metadata": {},
   "outputs": [],
   "source": []
  }
 ],
 "metadata": {
  "kernelspec": {
   "display_name": "Python 3 (ipykernel)",
   "language": "python",
   "name": "python3"
  },
  "language_info": {
   "codemirror_mode": {
    "name": "ipython",
    "version": 3
   },
   "file_extension": ".py",
   "mimetype": "text/x-python",
   "name": "python",
   "nbconvert_exporter": "python",
   "pygments_lexer": "ipython3",
   "version": "3.9.7"
  }
 },
 "nbformat": 4,
 "nbformat_minor": 5
}
